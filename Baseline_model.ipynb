{
  "nbformat": 4,
  "nbformat_minor": 0,
  "metadata": {
    "colab": {
      "provenance": [],
      "authorship_tag": "ABX9TyPI/IZ/ZhAWPPdWsKajl0oS"
    },
    "kernelspec": {
      "name": "python3",
      "display_name": "Python 3"
    },
    "language_info": {
      "name": "python"
    }
  },
  "cells": [
    {
      "cell_type": "markdown",
      "source": [
        "# Baseline Model"
      ],
      "metadata": {
        "id": "KlkeVqUwJYdy"
      }
    },
    {
      "cell_type": "markdown",
      "source": [
        "## Importing the necessary modules"
      ],
      "metadata": {
        "id": "XPJjFr_GJV_O"
      }
    },
    {
      "cell_type": "code",
      "source": [
        "import pandas as pd\n",
        "import numpy as np\n",
        "import yfinance as yf\n",
        "from ta import add_all_ta_features\n",
        "from ta.utils import dropna\n",
        "from tensorflow.keras.models import Sequential\n",
        "from keras.layers import LSTM,Dense\n",
        "import keras\n",
        "from sklearn.preprocessing import MinMaxScaler\n",
        "from tensorflow.keras.models import Sequential\n",
        "from tensorflow.keras.layers import LSTM, Dense, Dropout,Conv1D, MaxPooling1D\n",
        "from tensorflow.keras.optimizers import Adam\n",
        "import matplotlib.pyplot as plt\n",
        "from keras.callbacks import EarlyStopping\n",
        "from sklearn.model_selection import train_test_split"
      ],
      "metadata": {
        "id": "5CSI7A5PJWsb"
      },
      "execution_count": 156,
      "outputs": []
    },
    {
      "cell_type": "markdown",
      "source": [
        "## Fetching the stock price data"
      ],
      "metadata": {
        "id": "5-ccxKFXJoID"
      }
    },
    {
      "cell_type": "code",
      "source": [
        "def fetch_dow_jones_data(stock_name='^DJI',start_date='2018-01-01', end_date='2022-12-31'):\n",
        "    \"\"\"\n",
        "    Fetches Dow Jones Index opening and closing price day wise for the given start and end dates.\n",
        "\n",
        "    Args:\n",
        "        stock_name (str): Name of the stock to be fetched\n",
        "        start_date (str): The start date in YYYY-MM-DD format.\n",
        "        end_date (str): The end date in YYYY-MM-DD format.\n",
        "\n",
        "    Returns:\n",
        "        pd.DataFrame: A DataFrame containing the Dow Jones Index opening and closing price for the given start and end dates.\n",
        "    \"\"\"\n",
        "\n",
        "    df = yf.download(stock_name, start=start_date, end=end_date)\n",
        "    df['Open'] = df['Open'].astype(float)\n",
        "    df['Close'] = df['Close'].astype(float)\n",
        "    df = add_all_ta_features(df, open=\"Open\",close=\"Adj Close\",high=\"High\",low=\"Low\",volume=\"Volume\",fillna=True)\n",
        "    df.reset_index(level=0, inplace=True)\n",
        "    return df"
      ],
      "metadata": {
        "id": "_38KVQbdWBrc"
      },
      "execution_count": 12,
      "outputs": []
    },
    {
      "cell_type": "code",
      "source": [
        "dow_jones_data = fetch_dow_jones_data()"
      ],
      "metadata": {
        "colab": {
          "base_uri": "https://localhost:8080/"
        },
        "id": "EV2bEXRiWF7J",
        "outputId": "108f82a0-a2bd-4057-b734-6b99a9c3b049"
      },
      "execution_count": 14,
      "outputs": [
        {
          "output_type": "stream",
          "name": "stdout",
          "text": [
            "\r[*********************100%***********************]  1 of 1 completed\n"
          ]
        },
        {
          "output_type": "stream",
          "name": "stderr",
          "text": [
            "/usr/local/lib/python3.10/dist-packages/ta/trend.py:780: RuntimeWarning: invalid value encountered in double_scalars\n",
            "  dip[idx] = 100 * (self._dip[idx] / value)\n",
            "/usr/local/lib/python3.10/dist-packages/ta/trend.py:785: RuntimeWarning: invalid value encountered in double_scalars\n",
            "  din[idx] = 100 * (self._din[idx] / value)\n"
          ]
        }
      ]
    },
    {
      "cell_type": "markdown",
      "source": [
        "## Forecasting Model"
      ],
      "metadata": {
        "id": "kBGfqjVfJuB3"
      }
    },
    {
      "cell_type": "code",
      "source": [
        "def preprocess_data(data):\n",
        "    \"\"\"\n",
        "    Preprocesses the data for use in the machine learning model.\n",
        "\n",
        "    Args:\n",
        "        data (pd.DataFrame): The dataset to be preprocessed.\n",
        "\n",
        "    Returns:\n",
        "        scaled_data (np.ndarray): The scaled dataset.\n",
        "        scaler (sklearn.preprocessing.MinMaxScaler): The scaler used to transform the data.\n",
        "        close_scaler (sklearn.preprocessing.MinMaxScaler): The scaler used to transform the close price data.\n",
        "    \"\"\"\n",
        "\n",
        "    data = data.drop('Date', axis=1)\n",
        "    scaler = MinMaxScaler(feature_range=(0, 1))\n",
        "    scaled_data = scaler.fit_transform(data)\n",
        "    close_scaler = MinMaxScaler(feature_range=(0, 1))\n",
        "    close_scaler.fit_transform(data['Close'].values.reshape(-1, 1))\n",
        "\n",
        "    return scaled_data, scaler, close_scaler\n",
        "\n",
        "\n",
        "def get_predictions(model, X_test, y_test, scaler, close_scaler):\n",
        "    \"\"\"\n",
        "    Gets the predictions from the model.\n",
        "\n",
        "    Args:\n",
        "        model (keras.models.Sequential): The trained model.\n",
        "        X_test (np.ndarray): The test data.\n",
        "        y_test (np.ndarray): The ground truth labels for the test data.\n",
        "        scaler (sklearn.preprocessing.MinMaxScaler): The scaler used to transform the data.\n",
        "        close_scaler (sklearn.preprocessing.MinMaxScaler): The scaler used to transform the close price data.\n",
        "\n",
        "    Returns:\n",
        "        predictions (np.ndarray): The predictions from the model.\n",
        "    \"\"\"\n",
        "\n",
        "    predictions = model.predict(X_test)\n",
        "    predictions = close_scaler.inverse_transform(predictions)\n",
        "\n",
        "    return predictions\n",
        "\n",
        "\n",
        "\n",
        "def evaluate_model(predictions, y_test):\n",
        "    \"\"\"\n",
        "    Evaluates the model's performance.\n",
        "\n",
        "    Args:\n",
        "        predictions (np.ndarray): The predictions from the model.\n",
        "        y_test (np.ndarray): The ground truth labels for the test data.\n",
        "\n",
        "    Returns:\n",
        "        None\n",
        "    \"\"\"\n",
        "\n",
        "    mse = np.mean((predictions - y_test) ** 2)\n",
        "    print('Mean Squared Error:', mse)\n",
        "\n",
        "\n",
        "\n",
        "def create_datasets(scaled_data, train_size=0.8):\n",
        "    \"\"\"\n",
        "    Creates the training and test datasets.\n",
        "\n",
        "    Args:\n",
        "        scaled_data (np.ndarray): The scaled dataset.\n",
        "        train_size (float): The proportion of the data to use for training.\n",
        "\n",
        "    Returns:\n",
        "        train_data (np.ndarray): The training data.\n",
        "        test_data (np.ndarray): The test data.\n",
        "    \"\"\"\n",
        "\n",
        "    train_size = int(len(scaled_data) * train_size)\n",
        "    train_data = scaled_data[0:train_size]\n",
        "    test_data = scaled_data[train_size:]\n",
        "\n",
        "    return train_data, test_data\n",
        "\n",
        "def mean_absolute_percentage_error(test, predicted):\n",
        "  \"\"\"\n",
        "  Calculates the mean absolute percentage error (MAPE) between two lists of numbers.\n",
        "\n",
        "  Args:\n",
        "    test: The list of test values.\n",
        "    predicted: The list of predicted values.\n",
        "\n",
        "  Returns:\n",
        "    The MAPE between the two lists of numbers.\n",
        "  \"\"\"\n",
        "\n",
        "  errors = []\n",
        "  for test_value, predicted_value in zip(test, predicted):\n",
        "    error = abs(test_value - predicted_value) / test_value\n",
        "    errors.append(error)\n",
        "\n",
        "  mape = sum(errors) / len(errors) * 100\n",
        "  return mape\n",
        "\n",
        "\n",
        "\n",
        "\n",
        "def create_X_y_datasets(data):\n",
        "    \"\"\"\n",
        "    Creates the X and y datasets for the model.\n",
        "\n",
        "    Args:\n",
        "        data (pd.DataFrame): The dataset to be used to create the X and y datasets.\n",
        "\n",
        "    Returns:\n",
        "        X (np.ndarray): The features for the model.\n",
        "        y (np.ndarray): The labels for the model.\n",
        "    \"\"\"\n",
        "\n",
        "    X = []\n",
        "    y = []\n",
        "    for i in range(60, len(data)):\n",
        "        X.append(data[i-60:i])\n",
        "        y.append(data[i, 3])\n",
        "    X, y = np.array(X), np.array(y)\n",
        "\n",
        "    return X, y\n",
        "\n",
        "\n",
        "def define_model(X_train):\n",
        "    \"\"\"\n",
        "    Define the LSTM model.\n",
        "\n",
        "    Args:\n",
        "        X_train (np.ndarray): The training data for the model.\n",
        "\n",
        "    Returns:\n",
        "        model (keras.models.Sequential): The LSTM model.\n",
        "    \"\"\"\n",
        "\n",
        "    model = Sequential()\n",
        "    model.add(LSTM(units=50, return_sequences=True, input_shape=(X_train.shape[1], 92)))\n",
        "    model.add(Dropout(0.2))\n",
        "    model.add(LSTM(units=50, return_sequences=True))\n",
        "    model.add(Dropout(0.2))\n",
        "    model.add(LSTM(units=50))\n",
        "    model.add(Dropout(0.2))\n",
        "    model.add(Dense(units=1))\n",
        "\n",
        "    return model\n",
        "\n",
        "\n",
        "\n",
        "def compile_model(model, lr=0.01):\n",
        "    \"\"\"\n",
        "    Compile the model.\n",
        "\n",
        "    Args:\n",
        "        model (keras.models.Sequential): The LSTM model.\n",
        "        lr (float): The learning rate for the optimizer.\n",
        "\n",
        "    Returns:\n",
        "        model (keras.models.Sequential): The LSTM model.\n",
        "    \"\"\"\n",
        "\n",
        "    opt = Adam(learning_rate=lr)\n",
        "    model.compile(optimizer=opt, loss='mse', loss_weights=[1.])\n",
        "\n",
        "    return model\n",
        "\n",
        "\n",
        "\n",
        "def train_model(model, X_train, y_train, epochs=30, batch_size=32):\n",
        "    \"\"\"\n",
        "    Train the model.\n",
        "\n",
        "    Args:\n",
        "        model (keras.models.Sequential): The LSTM model.\n",
        "        X_train (np.ndarray): The training data for the model.\n",
        "        y_train (np.ndarray): The ground truth labels for the training data.\n",
        "        epochs (int): The number of epochs to train the model for.\n",
        "        batch_size (int): The batch size to use when training the model.\n",
        "\n",
        "    Returns:\n",
        "        model (keras.models.Sequential): The LSTM model.\n",
        "    \"\"\"\n",
        "\n",
        "    return model.fit(X_train, y_train, epochs=epochs, batch_size=batch_size)\n",
        "\n",
        "\n",
        "\n",
        "def visualize_results(train_data, test_data, predictions, scaler):\n",
        "    \"\"\"\n",
        "    Plots the true and predicted closing prices for the training and test data.\n",
        "\n",
        "    Args:\n",
        "        train_data (np.ndarray): The training data.\n",
        "        test_data (np.ndarray): The test data.\n",
        "        predictions (np.ndarray): The predictions from the model.\n",
        "        scaler (sklearn.preprocessing.MinMaxScaler): The scaler used to transform the data.\n",
        "\n",
        "    Returns:\n",
        "        None\n",
        "    \"\"\"\n",
        "\n",
        "    # Get the true closing prices for the training and test data\n",
        "    train_close = train_data[:, 3]\n",
        "    test_close = test_data[:, 3]\n",
        "\n",
        "    # Inverse transform the scaled data\n",
        "    train_close = close_scaler.inverse_transform(train_close.reshape(-1, 1))\n",
        "    test_close = close_scaler.inverse_transform(test_close.reshape(-1, 1))\n",
        "\n",
        "    # Plot the true closing prices for the training and test data\n",
        "    plt.plot(train_close, label='Training Data')\n",
        "    plt.plot(range(len(train_close), len(train_close) + len(test_close)), test_close, label='Test Data')\n",
        "\n",
        "    # Plot the predicted closing prices for the test data\n",
        "    plt.plot(range(len(train_close), len(train_close) + len(predictions)), predictions, label='Predictions')\n",
        "\n",
        "    # Add labels and a legend\n",
        "    plt.xlabel('Time')\n",
        "    plt.ylabel('Closing Price')\n",
        "    plt.legend()\n",
        "\n",
        "    # Show the plot\n",
        "    plt.show()\n"
      ],
      "metadata": {
        "id": "OdsjsRCSWIwI"
      },
      "execution_count": 126,
      "outputs": []
    },
    {
      "cell_type": "markdown",
      "source": [
        "### Data Preprocessing"
      ],
      "metadata": {
        "id": "4OEPOtr8J3z7"
      }
    },
    {
      "cell_type": "markdown",
      "source": [
        "The **preprocess_data()** function takes a dataset as input and returns a scaled dataset, along with the scalers used to transform the data. This is important because it ensures that the data is in a consistent format that can be used by the machine learning model. <br>\n",
        "The **create_datasets()** function takes the scaled dataset and splits it into training and test sets. This is necessary because the model needs to be trained on a dataset of known values in order to make accurate predictions. <br>\n",
        " The **create_X_y_datasets()** function takes the training dataset and creates a new dataset with the features and labels for the model. This is done by creating a sequence of 60 previous values for each label."
      ],
      "metadata": {
        "id": "GIYKLv-OJ8gi"
      }
    },
    {
      "cell_type": "code",
      "source": [
        "# Preprocess the data\n",
        "data = dow_jones_data\n",
        "scaled_data, scaler, close_scaler = preprocess_data(data)\n",
        "\n",
        "# Create the training and test datasets\n",
        "train_data, test_data = create_datasets(scaled_data)\n",
        "\n",
        "# Create the X and y datasets for training\n",
        "X_train, y_train = create_X_y_datasets(train_data)\n",
        "\n",
        "# Create the X and y datasets for testing\n",
        "X_test, y_test = create_X_y_datasets(test_data)"
      ],
      "metadata": {
        "id": "YKpF8lBVJOe-"
      },
      "execution_count": 20,
      "outputs": []
    },
    {
      "cell_type": "markdown",
      "source": [
        "### Running the model"
      ],
      "metadata": {
        "id": "zBxJV8vzKNzD"
      }
    },
    {
      "cell_type": "markdown",
      "source": [
        "The **define_model()** function defines the LSTM model that will be used to make predictions. The model has four LSTM layers, each with 50 units. There are also two dropout layers to prevent overfitting."
      ],
      "metadata": {
        "id": "eDlVZQi7JPMF"
      }
    },
    {
      "cell_type": "markdown",
      "source": [
        "The **compile_model()** function compiles the model with the Adam optimizer and the mean squared error loss function.\n",
        "\n",
        "The **train_model()** function trains the model on the training dataset. The number of epochs and batch size can be adjusted to improve the performance of the model."
      ],
      "metadata": {
        "id": "JxuwoCKYLDDv"
      }
    },
    {
      "cell_type": "code",
      "source": [
        "\n",
        "\n",
        "# Define the model\n",
        "model = define_model(X_train)\n",
        "\n",
        "# Compile the model\n",
        "model = compile_model(model, lr=0.01)\n",
        "\n",
        "# Train the model\n",
        "train_model(model, X_train, y_train, epochs=1, batch_size=32)\n",
        "\n"
      ],
      "metadata": {
        "id": "FOyjSzZCGyBJ"
      },
      "execution_count": null,
      "outputs": []
    },
    {
      "cell_type": "markdown",
      "source": [
        "### Evaluating the model"
      ],
      "metadata": {
        "id": "uzuXpw36LQB4"
      }
    },
    {
      "cell_type": "markdown",
      "source": [
        " The **get_predictions()** function makes predictions on the test dataset. The predictions are then evaluated using the mean squared error metric"
      ],
      "metadata": {
        "id": "pPs1DzsxLS0g"
      }
    },
    {
      "cell_type": "code",
      "source": [
        "#Get the predictions\n",
        "predictions = get_predictions(model, X_test, y_test, scaler, close_scaler)\n",
        "\n",
        "# Evaluate the model\n",
        "evaluate_model(predictions, y_test)\n",
        "\n",
        "# Visualize the results\n",
        "visualize_results(train_data, test_data, predictions, scaler)\n"
      ],
      "metadata": {
        "colab": {
          "base_uri": "https://localhost:8080/",
          "height": 468
        },
        "id": "PMR-jBVYzsin",
        "outputId": "179b2618-f155-4e16-8027-2469477ad645"
      },
      "execution_count": 125,
      "outputs": [
        {
          "output_type": "stream",
          "name": "stdout",
          "text": [
            "6/6 [==============================] - 0s 33ms/step\n"
          ]
        },
        {
          "output_type": "display_data",
          "data": {
            "text/plain": [
              "<Figure size 640x480 with 1 Axes>"
            ],
            "image/png": "[encoded data removed]"
          },
          "metadata": {}
        }
      ]
    },
    {
      "cell_type": "markdown",
      "source": [
        "## Classification Model"
      ],
      "metadata": {
        "id": "DyvPQYEq1iEK"
      }
    },
    {
      "cell_type": "markdown",
      "source": [
        "### Writing reproducible functions"
      ],
      "metadata": {
        "id": "_2_tk61V1yYD"
      }
    },
    {
      "cell_type": "markdown",
      "source": [
        "This script runs a TCN model to classify whether the stock price value will increase the next day or not.\n",
        "\n",
        "The script has the following functions:\n",
        "\n",
        "* `load_data()` loads the data from the file `stock_data.csv`.\n",
        "* `create_model()` creates a TCN model.\n",
        "* `train_model()` trains the model.\n",
        "* `evaluate_model()` evaluates the model."
      ],
      "metadata": {
        "id": "RAyNDLcA81Z7"
      }
    },
    {
      "cell_type": "code",
      "source": [
        "\n",
        "def create_model():\n",
        "    \"\"\"\n",
        "    Creates a TCN model.\n",
        "\n",
        "    Returns:\n",
        "        keras.models.Sequential: The created model.\n",
        "    \"\"\"\n",
        "\n",
        "    model = Sequential()\n",
        "    model.add(Conv1D(filters=64, kernel_size=3, activation='relu', input_shape=(5, 1)))\n",
        "    model.add(Dropout(0.2))\n",
        "    model.add(Conv1D(filters=128, kernel_size=3, activation='relu'))\n",
        "    model.add(Dropout(0.2))\n",
        "    model.add(Dense(1, activation='sigmoid'))\n",
        "    return model\n",
        "\n",
        "\n",
        "\n",
        "def train_model(model, data, labels,epochs=10):\n",
        "    \"\"\"\n",
        "    Trains the model.\n",
        "\n",
        "    Args:\n",
        "        model (keras.models.Sequential): The model to train.\n",
        "        data (np.ndarray): The training data.\n",
        "        labels (np.ndarray): The training labels.\n",
        "    \"\"\"\n",
        "\n",
        "    optimizer = Adam(learning_rate=0.001)\n",
        "    model.compile(loss='binary_crossentropy', optimizer=optimizer, metrics=['accuracy'])\n",
        "    model.fit(data, labels, epochs=epochs)\n",
        "\n",
        "def evaluate_model(model, data, labels):\n",
        "    \"\"\"\n",
        "    Evaluates the model.\n",
        "\n",
        "    Args:\n",
        "        model (keras.models.Sequential): The model to evaluate.\n",
        "        data (np.ndarray): The evaluation data.\n",
        "        labels (np.ndarray): The evaluation labels.\n",
        "\n",
        "    Returns:\n",
        "        float: The accuracy of the model.\n",
        "    \"\"\"\n",
        "    predictions = model.predict(np.array(data).flatten())\n",
        "    accuracy = np.mean(predictions == labels)\n",
        "    return accuracy"
      ],
      "metadata": {
        "id": "6jE2pnx92-s1"
      },
      "execution_count": 190,
      "outputs": []
    },
    {
      "cell_type": "code",
      "source": [
        "data = fetch_dow_jones_data()\n",
        "labels = data['Close'].shift(-1) > data['Close']\n",
        "data = data[['Open', 'High', 'Low', 'Close', 'Volume']]"
      ],
      "metadata": {
        "colab": {
          "base_uri": "https://localhost:8080/"
        },
        "id": "8T7GgW797NXF",
        "outputId": "a6d4492f-586d-49a9-a2eb-9909e111a915"
      },
      "execution_count": 188,
      "outputs": [
        {
          "output_type": "stream",
          "name": "stdout",
          "text": [
            "\r[*********************100%***********************]  1 of 1 completed\n"
          ]
        },
        {
          "output_type": "stream",
          "name": "stderr",
          "text": [
            "/usr/local/lib/python3.10/dist-packages/ta/trend.py:780: RuntimeWarning: invalid value encountered in double_scalars\n",
            "  dip[idx] = 100 * (self._dip[idx] / value)\n",
            "/usr/local/lib/python3.10/dist-packages/ta/trend.py:785: RuntimeWarning: invalid value encountered in double_scalars\n",
            "  din[idx] = 100 * (self._din[idx] / value)\n"
          ]
        }
      ]
    },
    {
      "cell_type": "code",
      "source": [
        "model = create_model()\n",
        "train_model(model, data, labels,epochs=100)"
      ],
      "metadata": {
        "colab": {
          "base_uri": "https://localhost:8080/"
        },
        "id": "6a6XMMgQ7QxB",
        "outputId": "e0156ccd-e088-4ba5-bf9d-9386e81acac5"
      },
      "execution_count": 191,
      "outputs": [
        {
          "output_type": "stream",
          "name": "stdout",
          "text": [
            "Epoch 1/100\n",
            "40/40 [==============================] - 2s 4ms/step - loss: 8.5908 - accuracy: 0.4416\n",
            "Epoch 2/100\n",
            "40/40 [==============================] - 0s 3ms/step - loss: 8.1255 - accuracy: 0.4718\n",
            "Epoch 3/100\n",
            "40/40 [==============================] - 0s 3ms/step - loss: 8.1987 - accuracy: 0.4670\n",
            "Epoch 4/100\n",
            "40/40 [==============================] - 0s 4ms/step - loss: 8.4447 - accuracy: 0.4512\n",
            "Epoch 5/100\n",
            "40/40 [==============================] - 0s 3ms/step - loss: 7.9813 - accuracy: 0.4813\n",
            "Epoch 6/100\n",
            "40/40 [==============================] - 0s 3ms/step - loss: 8.0786 - accuracy: 0.4750\n",
            "Epoch 7/100\n",
            "40/40 [==============================] - 0s 3ms/step - loss: 8.3332 - accuracy: 0.4583\n",
            "Epoch 8/100\n",
            "40/40 [==============================] - 0s 3ms/step - loss: 7.5784 - accuracy: 0.5075\n",
            "Epoch 9/100\n",
            "40/40 [==============================] - 0s 3ms/step - loss: 7.9802 - accuracy: 0.4813\n",
            "Epoch 10/100\n",
            "40/40 [==============================] - 0s 3ms/step - loss: 8.0773 - accuracy: 0.4750\n",
            "Epoch 11/100\n",
            "40/40 [==============================] - 0s 3ms/step - loss: 7.8572 - accuracy: 0.4893\n",
            "Epoch 12/100\n",
            "40/40 [==============================] - 0s 4ms/step - loss: 8.0779 - accuracy: 0.4750\n",
            "Epoch 13/100\n",
            "40/40 [==============================] - 0s 3ms/step - loss: 7.9792 - accuracy: 0.4813\n",
            "Epoch 14/100\n",
            "40/40 [==============================] - 0s 4ms/step - loss: 7.7481 - accuracy: 0.4964\n",
            "Epoch 15/100\n",
            "40/40 [==============================] - 0s 3ms/step - loss: 8.0787 - accuracy: 0.4750\n",
            "Epoch 16/100\n",
            "40/40 [==============================] - 0s 3ms/step - loss: 8.1734 - accuracy: 0.4686\n",
            "Epoch 17/100\n",
            "40/40 [==============================] - 0s 3ms/step - loss: 7.8471 - accuracy: 0.4901\n",
            "Epoch 18/100\n",
            "40/40 [==============================] - 0s 3ms/step - loss: 7.7344 - accuracy: 0.4972\n",
            "Epoch 19/100\n",
            "40/40 [==============================] - 0s 3ms/step - loss: 7.8589 - accuracy: 0.4893\n",
            "Epoch 20/100\n",
            "40/40 [==============================] - 0s 3ms/step - loss: 8.0272 - accuracy: 0.4782\n",
            "Epoch 21/100\n",
            "40/40 [==============================] - 0s 3ms/step - loss: 7.9197 - accuracy: 0.4853\n",
            "Epoch 22/100\n",
            "40/40 [==============================] - 0s 4ms/step - loss: 7.9810 - accuracy: 0.4813\n",
            "Epoch 23/100\n",
            "40/40 [==============================] - 0s 3ms/step - loss: 7.8217 - accuracy: 0.4917\n",
            "Epoch 24/100\n",
            "40/40 [==============================] - 0s 3ms/step - loss: 7.6755 - accuracy: 0.5012\n",
            "Epoch 25/100\n",
            "40/40 [==============================] - 0s 3ms/step - loss: 7.8710 - accuracy: 0.4885\n",
            "Epoch 26/100\n",
            "40/40 [==============================] - 0s 3ms/step - loss: 8.0768 - accuracy: 0.4750\n",
            "Epoch 27/100\n",
            "40/40 [==============================] - 0s 4ms/step - loss: 8.0166 - accuracy: 0.4790\n",
            "Epoch 28/100\n",
            "40/40 [==============================] - 0s 3ms/step - loss: 7.7869 - accuracy: 0.4940\n",
            "Epoch 29/100\n",
            "40/40 [==============================] - 0s 3ms/step - loss: 8.2483 - accuracy: 0.4639\n",
            "Epoch 30/100\n",
            "40/40 [==============================] - 0s 4ms/step - loss: 7.9911 - accuracy: 0.4805\n",
            "Epoch 31/100\n",
            "40/40 [==============================] - 0s 3ms/step - loss: 7.9452 - accuracy: 0.4837\n",
            "Epoch 32/100\n",
            "40/40 [==============================] - 0s 3ms/step - loss: 8.1634 - accuracy: 0.4694\n",
            "Epoch 33/100\n",
            "40/40 [==============================] - 0s 3ms/step - loss: 8.0048 - accuracy: 0.4797\n",
            "Epoch 34/100\n",
            "40/40 [==============================] - 0s 4ms/step - loss: 7.6762 - accuracy: 0.5012\n",
            "Epoch 35/100\n",
            "40/40 [==============================] - 0s 3ms/step - loss: 8.1527 - accuracy: 0.4702\n",
            "Epoch 36/100\n",
            "40/40 [==============================] - 0s 3ms/step - loss: 8.1270 - accuracy: 0.4718\n",
            "Epoch 37/100\n",
            "40/40 [==============================] - 0s 3ms/step - loss: 8.1380 - accuracy: 0.4710\n",
            "Epoch 38/100\n",
            "40/40 [==============================] - 0s 3ms/step - loss: 7.6264 - accuracy: 0.5044\n",
            "Epoch 39/100\n",
            "40/40 [==============================] - 0s 3ms/step - loss: 8.1268 - accuracy: 0.4718\n",
            "Epoch 40/100\n",
            "40/40 [==============================] - 0s 4ms/step - loss: 8.1251 - accuracy: 0.4718\n",
            "Epoch 41/100\n",
            "40/40 [==============================] - 0s 3ms/step - loss: 7.8840 - accuracy: 0.4877\n",
            "Epoch 42/100\n",
            "40/40 [==============================] - 0s 3ms/step - loss: 8.1994 - accuracy: 0.4670\n",
            "Epoch 43/100\n",
            "40/40 [==============================] - 0s 3ms/step - loss: 7.7609 - accuracy: 0.4956\n",
            "Epoch 44/100\n",
            "40/40 [==============================] - 0s 4ms/step - loss: 8.1288 - accuracy: 0.4718\n",
            "Epoch 45/100\n",
            "40/40 [==============================] - 0s 3ms/step - loss: 8.0285 - accuracy: 0.4782\n",
            "Epoch 46/100\n",
            "40/40 [==============================] - 0s 3ms/step - loss: 8.0906 - accuracy: 0.4742\n",
            "Epoch 47/100\n",
            "40/40 [==============================] - 0s 4ms/step - loss: 7.7971 - accuracy: 0.4932\n",
            "Epoch 48/100\n",
            "40/40 [==============================] - 0s 3ms/step - loss: 8.0913 - accuracy: 0.4742\n",
            "Epoch 49/100\n",
            "40/40 [==============================] - 0s 4ms/step - loss: 7.6502 - accuracy: 0.5028\n",
            "Epoch 50/100\n",
            "40/40 [==============================] - 0s 3ms/step - loss: 7.8958 - accuracy: 0.4869\n",
            "Epoch 51/100\n",
            "40/40 [==============================] - 0s 3ms/step - loss: 7.8473 - accuracy: 0.4901\n",
            "Epoch 52/100\n",
            "40/40 [==============================] - 0s 3ms/step - loss: 7.9069 - accuracy: 0.4861\n",
            "Epoch 53/100\n",
            "40/40 [==============================] - 0s 3ms/step - loss: 8.0789 - accuracy: 0.4750\n",
            "Epoch 54/100\n",
            "40/40 [==============================] - 0s 3ms/step - loss: 8.2011 - accuracy: 0.4670\n",
            "Epoch 55/100\n",
            "40/40 [==============================] - 0s 3ms/step - loss: 7.9945 - accuracy: 0.4805\n",
            "Epoch 56/100\n",
            "40/40 [==============================] - 0s 3ms/step - loss: 8.0925 - accuracy: 0.4742\n",
            "Epoch 57/100\n",
            "40/40 [==============================] - 0s 3ms/step - loss: 8.0063 - accuracy: 0.4797\n",
            "Epoch 58/100\n",
            "40/40 [==============================] - 0s 3ms/step - loss: 8.1510 - accuracy: 0.4702\n",
            "Epoch 59/100\n",
            "40/40 [==============================] - 0s 3ms/step - loss: 8.1400 - accuracy: 0.4710\n",
            "Epoch 60/100\n",
            "40/40 [==============================] - 0s 4ms/step - loss: 7.9426 - accuracy: 0.4837\n",
            "Epoch 61/100\n",
            "40/40 [==============================] - 0s 4ms/step - loss: 8.2245 - accuracy: 0.4654\n",
            "Epoch 62/100\n",
            "40/40 [==============================] - 0s 5ms/step - loss: 7.7257 - accuracy: 0.4980\n",
            "Epoch 63/100\n",
            "40/40 [==============================] - 0s 5ms/step - loss: 7.9561 - accuracy: 0.4829\n",
            "Epoch 64/100\n",
            "40/40 [==============================] - 0s 5ms/step - loss: 7.7595 - accuracy: 0.4956\n",
            "Epoch 65/100\n",
            "40/40 [==============================] - 0s 4ms/step - loss: 8.0048 - accuracy: 0.4797\n",
            "Epoch 66/100\n",
            "40/40 [==============================] - 0s 4ms/step - loss: 7.6881 - accuracy: 0.5004\n",
            "Epoch 67/100\n",
            "40/40 [==============================] - 0s 5ms/step - loss: 8.1137 - accuracy: 0.4726\n",
            "Epoch 68/100\n",
            "40/40 [==============================] - 0s 5ms/step - loss: 7.9303 - accuracy: 0.4845\n",
            "Epoch 69/100\n",
            "40/40 [==============================] - 0s 5ms/step - loss: 8.0173 - accuracy: 0.4790\n",
            "Epoch 70/100\n",
            "40/40 [==============================] - 0s 5ms/step - loss: 7.8469 - accuracy: 0.4901\n",
            "Epoch 71/100\n",
            "40/40 [==============================] - 0s 5ms/step - loss: 7.9438 - accuracy: 0.4837\n",
            "Epoch 72/100\n",
            "40/40 [==============================] - 0s 5ms/step - loss: 8.2363 - accuracy: 0.4647\n",
            "Epoch 73/100\n",
            "40/40 [==============================] - 0s 5ms/step - loss: 7.9923 - accuracy: 0.4805\n",
            "Epoch 74/100\n",
            "40/40 [==============================] - 0s 5ms/step - loss: 7.6755 - accuracy: 0.5012\n",
            "Epoch 75/100\n",
            "40/40 [==============================] - 0s 5ms/step - loss: 7.8458 - accuracy: 0.4901\n",
            "Epoch 76/100\n",
            "40/40 [==============================] - 0s 5ms/step - loss: 7.6867 - accuracy: 0.5004\n",
            "Epoch 77/100\n",
            "40/40 [==============================] - 0s 4ms/step - loss: 8.1024 - accuracy: 0.4734\n",
            "Epoch 78/100\n",
            "40/40 [==============================] - 0s 3ms/step - loss: 8.3090 - accuracy: 0.4599\n",
            "Epoch 79/100\n",
            "40/40 [==============================] - 0s 3ms/step - loss: 7.8699 - accuracy: 0.4885\n",
            "Epoch 80/100\n",
            "40/40 [==============================] - 0s 4ms/step - loss: 7.8604 - accuracy: 0.4893\n",
            "Epoch 81/100\n",
            "40/40 [==============================] - 0s 4ms/step - loss: 8.0900 - accuracy: 0.4742\n",
            "Epoch 82/100\n",
            "40/40 [==============================] - 0s 3ms/step - loss: 8.1268 - accuracy: 0.4718\n",
            "Epoch 83/100\n",
            "40/40 [==============================] - 0s 3ms/step - loss: 7.6501 - accuracy: 0.5028\n",
            "Epoch 84/100\n",
            "40/40 [==============================] - 0s 3ms/step - loss: 8.0771 - accuracy: 0.4750\n",
            "Epoch 85/100\n",
            "40/40 [==============================] - 0s 3ms/step - loss: 8.1652 - accuracy: 0.4694\n",
            "Epoch 86/100\n",
            "40/40 [==============================] - 0s 3ms/step - loss: 8.3203 - accuracy: 0.4591\n",
            "Epoch 87/100\n",
            "40/40 [==============================] - 0s 4ms/step - loss: 7.8340 - accuracy: 0.4909\n",
            "Epoch 88/100\n",
            "40/40 [==============================] - 0s 4ms/step - loss: 7.7843 - accuracy: 0.4940\n",
            "Epoch 89/100\n",
            "40/40 [==============================] - 0s 3ms/step - loss: 7.9800 - accuracy: 0.4813\n",
            "Epoch 90/100\n",
            "40/40 [==============================] - 0s 4ms/step - loss: 8.0294 - accuracy: 0.4782\n",
            "Epoch 91/100\n",
            "40/40 [==============================] - 0s 3ms/step - loss: 8.0903 - accuracy: 0.4742\n",
            "Epoch 92/100\n",
            "40/40 [==============================] - 0s 4ms/step - loss: 8.0313 - accuracy: 0.4782\n",
            "Epoch 93/100\n",
            "40/40 [==============================] - 0s 3ms/step - loss: 8.0414 - accuracy: 0.4774\n",
            "Epoch 94/100\n",
            "40/40 [==============================] - 0s 4ms/step - loss: 7.8459 - accuracy: 0.4901\n",
            "Epoch 95/100\n",
            "40/40 [==============================] - 0s 4ms/step - loss: 8.0162 - accuracy: 0.4790\n",
            "Epoch 96/100\n",
            "40/40 [==============================] - 0s 3ms/step - loss: 8.1507 - accuracy: 0.4702\n",
            "Epoch 97/100\n",
            "40/40 [==============================] - 0s 3ms/step - loss: 8.1620 - accuracy: 0.4694\n",
            "Epoch 98/100\n",
            "40/40 [==============================] - 0s 4ms/step - loss: 7.8223 - accuracy: 0.4917\n",
            "Epoch 99/100\n",
            "40/40 [==============================] - 0s 3ms/step - loss: 8.2349 - accuracy: 0.4647\n",
            "Epoch 100/100\n",
            "40/40 [==============================] - 0s 4ms/step - loss: 8.1866 - accuracy: 0.4678\n"
          ]
        }
      ]
    }
  ]
}